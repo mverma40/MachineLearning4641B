{
 "cells": [
  {
   "cell_type": "code",
   "execution_count": 2,
   "metadata": {},
   "outputs": [
    {
     "name": "stdout",
     "output_type": "stream",
     "text": [
      "Requirement already satisfied: pandas in /Library/Frameworks/Python.framework/Versions/3.6/lib/python3.6/site-packages (1.1.3)\n",
      "Requirement already satisfied: python-dateutil>=2.7.3 in /Library/Frameworks/Python.framework/Versions/3.6/lib/python3.6/site-packages (from pandas) (2.8.1)\n",
      "Requirement already satisfied: pytz>=2017.2 in /Library/Frameworks/Python.framework/Versions/3.6/lib/python3.6/site-packages (from pandas) (2020.1)\n",
      "Requirement already satisfied: numpy>=1.15.4 in /Library/Frameworks/Python.framework/Versions/3.6/lib/python3.6/site-packages (from pandas) (1.18.5)\n",
      "Requirement already satisfied: six>=1.5 in /Library/Frameworks/Python.framework/Versions/3.6/lib/python3.6/site-packages (from python-dateutil>=2.7.3->pandas) (1.15.0)\n",
      "\u001b[33mYou are using pip version 10.0.1, however version 20.3b1 is available.\n",
      "You should consider upgrading via the 'pip install --upgrade pip' command.\u001b[0m\n",
      "Note: you may need to restart the kernel to use updated packages.\n"
     ]
    }
   ],
   "source": [
    "pip install pandas\n"
   ]
  },
  {
   "cell_type": "code",
   "execution_count": 3,
   "metadata": {},
   "outputs": [
    {
     "name": "stdout",
     "output_type": "stream",
     "text": [
      "Requirement already satisfied: xlrd in /Library/Frameworks/Python.framework/Versions/3.6/lib/python3.6/site-packages (1.2.0)\n",
      "\u001b[33mYou are using pip version 10.0.1, however version 20.3b1 is available.\n",
      "You should consider upgrading via the 'pip install --upgrade pip' command.\u001b[0m\n",
      "Note: you may need to restart the kernel to use updated packages.\n"
     ]
    }
   ],
   "source": [
    "pip install xlrd\n"
   ]
  },
  {
   "cell_type": "code",
   "execution_count": 4,
   "metadata": {},
   "outputs": [
    {
     "name": "stdout",
     "output_type": "stream",
     "text": [
      "Requirement already satisfied: seaborn in /Library/Frameworks/Python.framework/Versions/3.6/lib/python3.6/site-packages (0.11.0)\n",
      "Requirement already satisfied: pandas>=0.23 in /Library/Frameworks/Python.framework/Versions/3.6/lib/python3.6/site-packages (from seaborn) (1.1.3)\n",
      "Requirement already satisfied: matplotlib>=2.2 in /Library/Frameworks/Python.framework/Versions/3.6/lib/python3.6/site-packages (from seaborn) (3.3.1)\n",
      "Requirement already satisfied: numpy>=1.15 in /Library/Frameworks/Python.framework/Versions/3.6/lib/python3.6/site-packages (from seaborn) (1.18.5)\n",
      "Requirement already satisfied: scipy>=1.0 in /Library/Frameworks/Python.framework/Versions/3.6/lib/python3.6/site-packages (from seaborn) (1.5.2)\n",
      "Requirement already satisfied: pytz>=2017.2 in /Library/Frameworks/Python.framework/Versions/3.6/lib/python3.6/site-packages (from pandas>=0.23->seaborn) (2020.1)\n",
      "Requirement already satisfied: python-dateutil>=2.7.3 in /Library/Frameworks/Python.framework/Versions/3.6/lib/python3.6/site-packages (from pandas>=0.23->seaborn) (2.8.1)\n",
      "Requirement already satisfied: certifi>=2020.06.20 in /Library/Frameworks/Python.framework/Versions/3.6/lib/python3.6/site-packages (from matplotlib>=2.2->seaborn) (2020.6.20)\n",
      "Requirement already satisfied: pyparsing!=2.0.4,!=2.1.2,!=2.1.6,>=2.0.3 in /Library/Frameworks/Python.framework/Versions/3.6/lib/python3.6/site-packages (from matplotlib>=2.2->seaborn) (2.4.7)\n",
      "Requirement already satisfied: cycler>=0.10 in /Library/Frameworks/Python.framework/Versions/3.6/lib/python3.6/site-packages (from matplotlib>=2.2->seaborn) (0.10.0)\n",
      "Requirement already satisfied: kiwisolver>=1.0.1 in /Library/Frameworks/Python.framework/Versions/3.6/lib/python3.6/site-packages (from matplotlib>=2.2->seaborn) (1.2.0)\n",
      "Requirement already satisfied: pillow>=6.2.0 in /Library/Frameworks/Python.framework/Versions/3.6/lib/python3.6/site-packages (from matplotlib>=2.2->seaborn) (7.2.0)\n",
      "Requirement already satisfied: six>=1.5 in /Library/Frameworks/Python.framework/Versions/3.6/lib/python3.6/site-packages (from python-dateutil>=2.7.3->pandas>=0.23->seaborn) (1.15.0)\n",
      "\u001b[33mYou are using pip version 10.0.1, however version 20.3b1 is available.\n",
      "You should consider upgrading via the 'pip install --upgrade pip' command.\u001b[0m\n",
      "Note: you may need to restart the kernel to use updated packages.\n"
     ]
    }
   ],
   "source": [
    "pip install seaborn"
   ]
  },
  {
   "cell_type": "code",
   "execution_count": 5,
   "metadata": {},
   "outputs": [
    {
     "name": "stdout",
     "output_type": "stream",
     "text": [
      "Requirement already satisfied: scipy in /Library/Frameworks/Python.framework/Versions/3.6/lib/python3.6/site-packages (1.5.2)\n",
      "Requirement already satisfied: numpy>=1.14.5 in /Library/Frameworks/Python.framework/Versions/3.6/lib/python3.6/site-packages (from scipy) (1.18.5)\n",
      "\u001b[33mYou are using pip version 10.0.1, however version 20.3b1 is available.\n",
      "You should consider upgrading via the 'pip install --upgrade pip' command.\u001b[0m\n",
      "Note: you may need to restart the kernel to use updated packages.\n"
     ]
    }
   ],
   "source": [
    "pip install scipy\n"
   ]
  },
  {
   "cell_type": "code",
   "execution_count": 6,
   "metadata": {},
   "outputs": [],
   "source": [
    "import pandas as pd\n",
    "\n",
    "\n",
    "### USE this data right now\n",
    "usaData = pd.read_csv('USA-Housing-Dataset-master/USA_Housing.csv')\n",
    "\n",
    "### Don't use this data yet either too specific\n",
    "dfZillowDataTest = pd.read_csv('house-prices-advanced-regression-techniques/Test.csv')\n",
    "dfZillowDataTrain = pd.read_csv('house-prices-advanced-regression-techniques/Train.csv')\n",
    "\n",
    "\n",
    "### Dont use the data below right now -- we will use it for future use if we need more specification in predictions\n",
    "sample1 = pd.read_csv('data/State_Zhvi_1bedroom.csv')\n",
    "sample2 = pd.read_csv('data/State_Zhvi_2bedroom.csv')\n",
    "sample3 = pd.read_csv('data/State_Zhvi_3bedroom.csv')\n",
    "sample4 = pd.read_csv('data/State_Zhvi_4bedroom.csv')\n",
    "sample5 = pd.read_csv('data/State_Zhvi_5BedroomOrMore.csv')\n",
    "\n",
    "\n",
    "sample6 = pd.read_csv('data/City_Zhvi_1bedroom.csv')\n",
    "sample7 = pd.read_csv('data/City_Zhvi_2bedroom.csv')\n",
    "sample8 = pd.read_csv('data/City_Zhvi_3bedroom.csv')\n",
    "sample9 = pd.read_csv('data/City_Zhvi_4bedroom.csv')\n",
    "sample10 = pd.read_csv('data/City_Zhvi_5BedroomOrMore.csv')\n",
    "################\n",
    "\n",
    "\n"
   ]
  },
  {
   "cell_type": "code",
   "execution_count": 7,
   "metadata": {},
   "outputs": [
    {
     "data": {
      "text/html": [
       "<div>\n",
       "<style scoped>\n",
       "    .dataframe tbody tr th:only-of-type {\n",
       "        vertical-align: middle;\n",
       "    }\n",
       "\n",
       "    .dataframe tbody tr th {\n",
       "        vertical-align: top;\n",
       "    }\n",
       "\n",
       "    .dataframe thead th {\n",
       "        text-align: right;\n",
       "    }\n",
       "</style>\n",
       "<table border=\"1\" class=\"dataframe\">\n",
       "  <thead>\n",
       "    <tr style=\"text-align: right;\">\n",
       "      <th></th>\n",
       "      <th>Avg. Area Income</th>\n",
       "      <th>Avg. Area House Age</th>\n",
       "      <th>Avg. Area Number of Rooms</th>\n",
       "      <th>Avg. Area Number of Bedrooms</th>\n",
       "      <th>Area Population</th>\n",
       "      <th>Price</th>\n",
       "    </tr>\n",
       "  </thead>\n",
       "  <tbody>\n",
       "    <tr>\n",
       "      <th>count</th>\n",
       "      <td>5000.000000</td>\n",
       "      <td>5000.000000</td>\n",
       "      <td>5000.000000</td>\n",
       "      <td>5000.000000</td>\n",
       "      <td>5000.000000</td>\n",
       "      <td>5.000000e+03</td>\n",
       "    </tr>\n",
       "    <tr>\n",
       "      <th>mean</th>\n",
       "      <td>68583.108984</td>\n",
       "      <td>5.977222</td>\n",
       "      <td>6.987792</td>\n",
       "      <td>3.981330</td>\n",
       "      <td>36163.516039</td>\n",
       "      <td>1.232073e+06</td>\n",
       "    </tr>\n",
       "    <tr>\n",
       "      <th>std</th>\n",
       "      <td>10657.991214</td>\n",
       "      <td>0.991456</td>\n",
       "      <td>1.005833</td>\n",
       "      <td>1.234137</td>\n",
       "      <td>9925.650114</td>\n",
       "      <td>3.531176e+05</td>\n",
       "    </tr>\n",
       "    <tr>\n",
       "      <th>min</th>\n",
       "      <td>17796.631190</td>\n",
       "      <td>2.644304</td>\n",
       "      <td>3.236194</td>\n",
       "      <td>2.000000</td>\n",
       "      <td>172.610686</td>\n",
       "      <td>1.593866e+04</td>\n",
       "    </tr>\n",
       "    <tr>\n",
       "      <th>25%</th>\n",
       "      <td>61480.562388</td>\n",
       "      <td>5.322283</td>\n",
       "      <td>6.299250</td>\n",
       "      <td>3.140000</td>\n",
       "      <td>29403.928702</td>\n",
       "      <td>9.975771e+05</td>\n",
       "    </tr>\n",
       "    <tr>\n",
       "      <th>50%</th>\n",
       "      <td>68804.286404</td>\n",
       "      <td>5.970429</td>\n",
       "      <td>7.002902</td>\n",
       "      <td>4.050000</td>\n",
       "      <td>36199.406689</td>\n",
       "      <td>1.232669e+06</td>\n",
       "    </tr>\n",
       "    <tr>\n",
       "      <th>75%</th>\n",
       "      <td>75783.338666</td>\n",
       "      <td>6.650808</td>\n",
       "      <td>7.665871</td>\n",
       "      <td>4.490000</td>\n",
       "      <td>42861.290769</td>\n",
       "      <td>1.471210e+06</td>\n",
       "    </tr>\n",
       "    <tr>\n",
       "      <th>max</th>\n",
       "      <td>107701.748378</td>\n",
       "      <td>9.519088</td>\n",
       "      <td>10.759588</td>\n",
       "      <td>6.500000</td>\n",
       "      <td>69621.713378</td>\n",
       "      <td>2.469066e+06</td>\n",
       "    </tr>\n",
       "  </tbody>\n",
       "</table>\n",
       "</div>"
      ],
      "text/plain": [
       "       Avg. Area Income  Avg. Area House Age  Avg. Area Number of Rooms  \\\n",
       "count       5000.000000          5000.000000                5000.000000   \n",
       "mean       68583.108984             5.977222                   6.987792   \n",
       "std        10657.991214             0.991456                   1.005833   \n",
       "min        17796.631190             2.644304                   3.236194   \n",
       "25%        61480.562388             5.322283                   6.299250   \n",
       "50%        68804.286404             5.970429                   7.002902   \n",
       "75%        75783.338666             6.650808                   7.665871   \n",
       "max       107701.748378             9.519088                  10.759588   \n",
       "\n",
       "       Avg. Area Number of Bedrooms  Area Population         Price  \n",
       "count                   5000.000000      5000.000000  5.000000e+03  \n",
       "mean                       3.981330     36163.516039  1.232073e+06  \n",
       "std                        1.234137      9925.650114  3.531176e+05  \n",
       "min                        2.000000       172.610686  1.593866e+04  \n",
       "25%                        3.140000     29403.928702  9.975771e+05  \n",
       "50%                        4.050000     36199.406689  1.232669e+06  \n",
       "75%                        4.490000     42861.290769  1.471210e+06  \n",
       "max                        6.500000     69621.713378  2.469066e+06  "
      ]
     },
     "execution_count": 7,
     "metadata": {},
     "output_type": "execute_result"
    }
   ],
   "source": [
    "usaData.head()\n",
    "usaData.describe()"
   ]
  },
  {
   "cell_type": "code",
   "execution_count": 8,
   "metadata": {},
   "outputs": [],
   "source": [
    "### using manufactured housing data\n",
    "puf2019 = pd.read_excel('PUF2019.xlsx')\n",
    "puf2018 = pd.read_excel('PUF2018.xlsx')\n",
    "puf2017 = pd.read_excel('PUF2017.xlsx')\n",
    "puf2016 = pd.read_excel('PUF2016.xlsx')\n",
    "puf2015 = pd.read_excel('PUF2015.xlsx')\n",
    "puf2014 = pd.read_excel('PUF2014.xlsx')\n",
    "################\n",
    "\n",
    "## Clean up data to only use the relevant columns\n",
    "\n",
    "puf2019 = puf2019[['CONTROL' , 'REGION' , 'SHIPMONTH' , 'SECTIONS' ,\n",
    "                   'WEIGHT' , 'WGTADJ' , 'STATUS' , 'PRICE' , 'SQFT' ,\n",
    "                   'BEDROOMS' , 'TITLED' , 'LOCATION' , 'FOUNDATION' , 'SECURED']]\n",
    "\n",
    "puf2018 = puf2018[['CONTROL' , 'REGION' , 'SHIPMONTH' , 'SECTIONS' ,\n",
    "                   'WEIGHT' , 'WGTADJ' , 'STATUS' , 'PRICE' , 'SQFT' ,\n",
    "                   'BEDROOMS' , 'TITLED' , 'LOCATION' , 'FOUNDATION' , 'SECURED']]\n",
    "puf2017 = puf2018[['CONTROL' , 'REGION' , 'SHIPMONTH' , 'SECTIONS' ,\n",
    "                   'WEIGHT' , 'WGTADJ' , 'STATUS' , 'PRICE' , 'SQFT' ,\n",
    "                   'BEDROOMS' , 'TITLED' , 'LOCATION' , 'FOUNDATION' , 'SECURED']]\n",
    "puf2016 = puf2018[['CONTROL' , 'REGION' , 'SHIPMONTH' , 'SECTIONS' ,\n",
    "                   'WEIGHT' , 'WGTADJ' , 'STATUS' , 'PRICE' , 'SQFT' ,\n",
    "                   'BEDROOMS' , 'TITLED' , 'LOCATION' , 'FOUNDATION' , 'SECURED']]\n",
    "puf2015 = puf2018[['CONTROL' , 'REGION' , 'SHIPMONTH' , 'SECTIONS' ,\n",
    "                   'WEIGHT' , 'WGTADJ' , 'STATUS' , 'PRICE' , 'SQFT' ,\n",
    "                   'BEDROOMS' , 'TITLED' , 'LOCATION' , 'FOUNDATION' , 'SECURED']]\n",
    "puf2014 = puf2014[['CONTROL' , 'REGION' , 'SHIPMONTH' , 'SECTIONS' ,\n",
    "                   'WEIGHT' , 'WGTADJ' , 'STATUS' , 'PRICE' , 'SQFT' ,\n",
    "                   'BEDROOMS' , 'TITLED' , 'LOCATION' , 'FOUNDATION' , 'SECURED']]\n",
    "################\n"
   ]
  },
  {
   "cell_type": "code",
   "execution_count": 9,
   "metadata": {},
   "outputs": [
    {
     "data": {
      "text/html": [
       "<div>\n",
       "<style scoped>\n",
       "    .dataframe tbody tr th:only-of-type {\n",
       "        vertical-align: middle;\n",
       "    }\n",
       "\n",
       "    .dataframe tbody tr th {\n",
       "        vertical-align: top;\n",
       "    }\n",
       "\n",
       "    .dataframe thead th {\n",
       "        text-align: right;\n",
       "    }\n",
       "</style>\n",
       "<table border=\"1\" class=\"dataframe\">\n",
       "  <thead>\n",
       "    <tr style=\"text-align: right;\">\n",
       "      <th></th>\n",
       "      <th>CONTROL</th>\n",
       "      <th>REGION</th>\n",
       "      <th>SHIPMONTH</th>\n",
       "      <th>SECTIONS</th>\n",
       "      <th>WEIGHT</th>\n",
       "      <th>WGTADJ</th>\n",
       "      <th>STATUS</th>\n",
       "      <th>PRICE</th>\n",
       "      <th>SQFT</th>\n",
       "      <th>BEDROOMS</th>\n",
       "      <th>TITLED</th>\n",
       "      <th>LOCATION</th>\n",
       "      <th>FOUNDATION</th>\n",
       "      <th>SECURED</th>\n",
       "    </tr>\n",
       "  </thead>\n",
       "  <tbody>\n",
       "    <tr>\n",
       "      <th>0</th>\n",
       "      <td>19010001</td>\n",
       "      <td>4</td>\n",
       "      <td>201901</td>\n",
       "      <td>1</td>\n",
       "      <td>19.263200</td>\n",
       "      <td>1.092300</td>\n",
       "      <td>2</td>\n",
       "      <td>53000</td>\n",
       "      <td>440</td>\n",
       "      <td>1</td>\n",
       "      <td>2</td>\n",
       "      <td>3</td>\n",
       "      <td>2</td>\n",
       "      <td>1</td>\n",
       "    </tr>\n",
       "    <tr>\n",
       "      <th>1</th>\n",
       "      <td>19010002</td>\n",
       "      <td>4</td>\n",
       "      <td>201901</td>\n",
       "      <td>1</td>\n",
       "      <td>19.263200</td>\n",
       "      <td>1.092300</td>\n",
       "      <td>2</td>\n",
       "      <td>59000</td>\n",
       "      <td>620</td>\n",
       "      <td>1</td>\n",
       "      <td>2</td>\n",
       "      <td>1</td>\n",
       "      <td>3</td>\n",
       "      <td>1</td>\n",
       "    </tr>\n",
       "    <tr>\n",
       "      <th>2</th>\n",
       "      <td>19010003</td>\n",
       "      <td>4</td>\n",
       "      <td>201901</td>\n",
       "      <td>1</td>\n",
       "      <td>19.263200</td>\n",
       "      <td>1.092300</td>\n",
       "      <td>2</td>\n",
       "      <td>55000</td>\n",
       "      <td>920</td>\n",
       "      <td>1</td>\n",
       "      <td>2</td>\n",
       "      <td>3</td>\n",
       "      <td>3</td>\n",
       "      <td>1</td>\n",
       "    </tr>\n",
       "    <tr>\n",
       "      <th>3</th>\n",
       "      <td>19010004</td>\n",
       "      <td>4</td>\n",
       "      <td>201901</td>\n",
       "      <td>1</td>\n",
       "      <td>19.263200</td>\n",
       "      <td>1.092300</td>\n",
       "      <td>2</td>\n",
       "      <td>100000</td>\n",
       "      <td>700</td>\n",
       "      <td>1</td>\n",
       "      <td>2</td>\n",
       "      <td>1</td>\n",
       "      <td>2</td>\n",
       "      <td>1</td>\n",
       "    </tr>\n",
       "    <tr>\n",
       "      <th>4</th>\n",
       "      <td>19010005</td>\n",
       "      <td>1</td>\n",
       "      <td>201901</td>\n",
       "      <td>1</td>\n",
       "      <td>10.483300</td>\n",
       "      <td>1.092300</td>\n",
       "      <td>2</td>\n",
       "      <td>57000</td>\n",
       "      <td>1100</td>\n",
       "      <td>3</td>\n",
       "      <td>2</td>\n",
       "      <td>3</td>\n",
       "      <td>3</td>\n",
       "      <td>1</td>\n",
       "    </tr>\n",
       "    <tr>\n",
       "      <th>...</th>\n",
       "      <td>...</td>\n",
       "      <td>...</td>\n",
       "      <td>...</td>\n",
       "      <td>...</td>\n",
       "      <td>...</td>\n",
       "      <td>...</td>\n",
       "      <td>...</td>\n",
       "      <td>...</td>\n",
       "      <td>...</td>\n",
       "      <td>...</td>\n",
       "      <td>...</td>\n",
       "      <td>...</td>\n",
       "      <td>...</td>\n",
       "      <td>...</td>\n",
       "    </tr>\n",
       "    <tr>\n",
       "      <th>4952</th>\n",
       "      <td>1412463</td>\n",
       "      <td>3</td>\n",
       "      <td>201412</td>\n",
       "      <td>1</td>\n",
       "      <td>35.150000</td>\n",
       "      <td>1.040823</td>\n",
       "      <td>2</td>\n",
       "      <td>36200</td>\n",
       "      <td>1216</td>\n",
       "      <td>3</td>\n",
       "      <td>2</td>\n",
       "      <td>3</td>\n",
       "      <td>3</td>\n",
       "      <td>1</td>\n",
       "    </tr>\n",
       "    <tr>\n",
       "      <th>4953</th>\n",
       "      <td>1412464</td>\n",
       "      <td>4</td>\n",
       "      <td>201412</td>\n",
       "      <td>2</td>\n",
       "      <td>5.700000</td>\n",
       "      <td>0.972076</td>\n",
       "      <td>2</td>\n",
       "      <td>69400</td>\n",
       "      <td>1248</td>\n",
       "      <td>3</td>\n",
       "      <td>2</td>\n",
       "      <td>1</td>\n",
       "      <td>3</td>\n",
       "      <td>1</td>\n",
       "    </tr>\n",
       "    <tr>\n",
       "      <th>4954</th>\n",
       "      <td>1412465</td>\n",
       "      <td>2</td>\n",
       "      <td>201412</td>\n",
       "      <td>1</td>\n",
       "      <td>8.118182</td>\n",
       "      <td>1.040823</td>\n",
       "      <td>2</td>\n",
       "      <td>47000</td>\n",
       "      <td>1056</td>\n",
       "      <td>3</td>\n",
       "      <td>2</td>\n",
       "      <td>1</td>\n",
       "      <td>1</td>\n",
       "      <td>9</td>\n",
       "    </tr>\n",
       "    <tr>\n",
       "      <th>4955</th>\n",
       "      <td>1412466</td>\n",
       "      <td>3</td>\n",
       "      <td>201412</td>\n",
       "      <td>1</td>\n",
       "      <td>1.000000</td>\n",
       "      <td>1.040823</td>\n",
       "      <td>3</td>\n",
       "      <td>9</td>\n",
       "      <td>9</td>\n",
       "      <td>9</td>\n",
       "      <td>9</td>\n",
       "      <td>9</td>\n",
       "      <td>9</td>\n",
       "      <td>9</td>\n",
       "    </tr>\n",
       "    <tr>\n",
       "      <th>4956</th>\n",
       "      <td>1412467</td>\n",
       "      <td>3</td>\n",
       "      <td>201412</td>\n",
       "      <td>2</td>\n",
       "      <td>17.575000</td>\n",
       "      <td>0.972076</td>\n",
       "      <td>3</td>\n",
       "      <td>9</td>\n",
       "      <td>9</td>\n",
       "      <td>9</td>\n",
       "      <td>9</td>\n",
       "      <td>9</td>\n",
       "      <td>9</td>\n",
       "      <td>9</td>\n",
       "    </tr>\n",
       "  </tbody>\n",
       "</table>\n",
       "<p>34625 rows × 14 columns</p>\n",
       "</div>"
      ],
      "text/plain": [
       "       CONTROL  REGION  SHIPMONTH  SECTIONS     WEIGHT    WGTADJ  STATUS  \\\n",
       "0     19010001       4     201901         1  19.263200  1.092300       2   \n",
       "1     19010002       4     201901         1  19.263200  1.092300       2   \n",
       "2     19010003       4     201901         1  19.263200  1.092300       2   \n",
       "3     19010004       4     201901         1  19.263200  1.092300       2   \n",
       "4     19010005       1     201901         1  10.483300  1.092300       2   \n",
       "...        ...     ...        ...       ...        ...       ...     ...   \n",
       "4952   1412463       3     201412         1  35.150000  1.040823       2   \n",
       "4953   1412464       4     201412         2   5.700000  0.972076       2   \n",
       "4954   1412465       2     201412         1   8.118182  1.040823       2   \n",
       "4955   1412466       3     201412         1   1.000000  1.040823       3   \n",
       "4956   1412467       3     201412         2  17.575000  0.972076       3   \n",
       "\n",
       "       PRICE  SQFT  BEDROOMS  TITLED  LOCATION  FOUNDATION  SECURED  \n",
       "0      53000   440         1       2         3           2        1  \n",
       "1      59000   620         1       2         1           3        1  \n",
       "2      55000   920         1       2         3           3        1  \n",
       "3     100000   700         1       2         1           2        1  \n",
       "4      57000  1100         3       2         3           3        1  \n",
       "...      ...   ...       ...     ...       ...         ...      ...  \n",
       "4952   36200  1216         3       2         3           3        1  \n",
       "4953   69400  1248         3       2         1           3        1  \n",
       "4954   47000  1056         3       2         1           1        9  \n",
       "4955       9     9         9       9         9           9        9  \n",
       "4956       9     9         9       9         9           9        9  \n",
       "\n",
       "[34625 rows x 14 columns]"
      ]
     },
     "metadata": {},
     "output_type": "display_data"
    }
   ],
   "source": [
    "pufFinal = puf2019.append(puf2018)\n",
    "pufFinal = pufFinal.append(puf2017)\n",
    "pufFinal = pufFinal.append(puf2016)\n",
    "pufFinal = pufFinal.append(puf2015)\n",
    "pufFinal = pufFinal.append(puf2014)\n",
    "#print(len(pufFinal)) = 34625\n",
    "display(pufFinal)\n",
    "\n"
   ]
  },
  {
   "cell_type": "code",
   "execution_count": 10,
   "metadata": {},
   "outputs": [
    {
     "name": "stdout",
     "output_type": "stream",
     "text": [
      "myLen:  6578\n",
      "34625\n",
      "counter :  6578\n",
      "frame.length:  6578\n"
     ]
    }
   ],
   "source": [
    "from sklearn.linear_model import LinearRegression\n",
    "import numpy as np\n",
    "\n",
    "colOfConcern = ['CONTROL' , 'REGION' , 'SHIPMONTH' , 'SECTIONS' ,\n",
    "                   'WEIGHT' , 'WGTADJ' , 'STATUS' , 'PRICE' , 'SQFT' ,\n",
    "                   'BEDROOMS' , 'TITLED' , 'LOCATION' , 'FOUNDATION' , 'SECURED']\n",
    "pufFinal = pufFinal[colOfConcern].replace( 9 , np.nan)\n",
    "\n",
    "withNull1 = pufFinal[['CONTROL' , 'REGION' , 'SHIPMONTH' , 'SECTIONS' ,\n",
    "                   'WEIGHT' , 'WGTADJ']]\n",
    "\n",
    "withNull1[np.isnan(pufFinal.PRICE)].to_csv('oi.csv')\n",
    "\n",
    "\n",
    "\n",
    "testingX = withNull1[np.isnan(pufFinal.PRICE)]\n",
    "print(\"myLen: \", len(testingX))\n",
    "\n",
    "testingX.to_csv('sampleDisplay112.csv')\n",
    "\n",
    "\n",
    "definiteValues = pufFinal[['CONTROL' , 'REGION' , 'SHIPMONTH' , 'SECTIONS' ,\n",
    "                   'WEIGHT' , 'WGTADJ' , 'STATUS' , 'PRICE' , 'SQFT' ,\n",
    "                   'BEDROOMS' , 'TITLED' , 'LOCATION' , 'FOUNDATION' , 'SECURED']].dropna()\n",
    "\n",
    "trainX = definiteValues[['CONTROL' , 'REGION' , 'SHIPMONTH' , 'SECTIONS' ,\n",
    "                   'WEIGHT' , 'WGTADJ']]\n",
    "\n",
    "trainY = definiteValues[['PRICE']]\n",
    "LR = LinearRegression()\n",
    "LR.fit(trainX , trainY)\n",
    "\n",
    "frame = LR.predict(testingX)\n",
    "counter = 0\n",
    "print(len(pufFinal[\"PRICE\"].values))\n",
    "\n",
    "pufFinal[\"PRICE\"].to_csv(\"worddd.csv\")\n",
    "for i in range(len(pufFinal)):\n",
    "    if pd.isna(pufFinal.iloc[i,7]):\n",
    "        pufFinal.iloc[i,7] = frame[counter]\n",
    "        counter+=1\n",
    "print(\"counter : \" , counter)\n",
    "print(\"frame.length: \", len(frame))\n",
    "\n",
    "\n",
    "pufFinal.to_csv('sampleDisplay.csv')\n"
   ]
  },
  {
   "cell_type": "code",
   "execution_count": 11,
   "metadata": {},
   "outputs": [
    {
     "name": "stdout",
     "output_type": "stream",
     "text": [
      "myLen:  2\n",
      "34625\n",
      "counter :  2\n",
      "frame.length:  2\n"
     ]
    }
   ],
   "source": [
    "\n",
    "withNull1 = pufFinal[['CONTROL' , 'REGION' , 'SHIPMONTH' , 'SECTIONS' ,\n",
    "                   'WEIGHT' , 'WGTADJ']]\n",
    "\n",
    "withNull1[np.isnan(pufFinal.STATUS)].to_csv('oi.csv')\n",
    "\n",
    "\n",
    "\n",
    "testingX = withNull1[np.isnan(pufFinal.STATUS)]\n",
    "print(\"myLen: \", len(testingX))\n",
    "\n",
    "testingX.to_csv('sampleDisplay112.csv')\n",
    "\n",
    "\n",
    "definiteValues = pufFinal[['CONTROL' , 'REGION' , 'SHIPMONTH' , 'SECTIONS' ,\n",
    "                   'WEIGHT' , 'WGTADJ' , 'STATUS' , 'PRICE' , 'SQFT' ,\n",
    "                   'BEDROOMS' , 'TITLED' , 'LOCATION' , 'FOUNDATION' , 'SECURED']].dropna()\n",
    "\n",
    "trainX = definiteValues[['CONTROL' , 'REGION' , 'SHIPMONTH' , 'SECTIONS' ,\n",
    "                   'WEIGHT' , 'WGTADJ']]\n",
    "\n",
    "trainY = definiteValues[['STATUS']]\n",
    "LR = LinearRegression()\n",
    "LR.fit(trainX , trainY)\n",
    "\n",
    "frame = LR.predict(testingX)\n",
    "counter = 0\n",
    "print(len(pufFinal[\"STATUS\"].values))\n",
    "\n",
    "pufFinal[\"STATUS\"].to_csv(\"worddd.csv\")\n",
    "for i in range(len(pufFinal)):\n",
    "    if pd.isna(pufFinal.iloc[i,6]):\n",
    "        pufFinal.iloc[i,6] = frame[counter]\n",
    "        counter+=1\n",
    "print(\"counter : \" , counter)\n",
    "print(\"frame.length: \", len(frame))\n",
    "\n",
    "\n",
    "pufFinal.to_csv('sampleDisplay.csv')\n"
   ]
  },
  {
   "cell_type": "code",
   "execution_count": 12,
   "metadata": {},
   "outputs": [
    {
     "name": "stdout",
     "output_type": "stream",
     "text": [
      "myLen:  5964\n",
      "34625\n",
      "counter :  5964\n",
      "frame.length:  5964\n"
     ]
    }
   ],
   "source": [
    "\n",
    "withNull1 = pufFinal[['CONTROL' , 'REGION' , 'SHIPMONTH' , 'SECTIONS' ,\n",
    "                   'WEIGHT' , 'WGTADJ']]\n",
    "\n",
    "withNull1[np.isnan(pufFinal.SQFT)].to_csv('oi.csv')\n",
    "\n",
    "\n",
    "\n",
    "testingX = withNull1[np.isnan(pufFinal.SQFT)]\n",
    "print(\"myLen: \", len(testingX))\n",
    "\n",
    "testingX.to_csv('sampleDisplay112.csv')\n",
    "\n",
    "\n",
    "definiteValues = pufFinal[['CONTROL' , 'REGION' , 'SHIPMONTH' , 'SECTIONS' ,\n",
    "                   'WEIGHT' , 'WGTADJ' , 'STATUS' , 'PRICE' , 'SQFT' ,\n",
    "                   'BEDROOMS' , 'TITLED' , 'LOCATION' , 'FOUNDATION' , 'SECURED']].dropna()\n",
    "\n",
    "trainX = definiteValues[['CONTROL' , 'REGION' , 'SHIPMONTH' , 'SECTIONS' ,\n",
    "                   'WEIGHT' , 'WGTADJ']]\n",
    "\n",
    "trainY = definiteValues[['SQFT']]\n",
    "LR = LinearRegression()\n",
    "LR.fit(trainX , trainY)\n",
    "\n",
    "frame = LR.predict(testingX)\n",
    "counter = 0\n",
    "print(len(pufFinal[\"SQFT\"].values))\n",
    "\n",
    "pufFinal[\"SQFT\"].to_csv(\"worddd.csv\")\n",
    "for i in range(len(pufFinal)):\n",
    "    if pd.isna(pufFinal.iloc[i,8]):\n",
    "        pufFinal.iloc[i,8] = frame[counter]\n",
    "        counter+=1\n",
    "print(\"counter : \" , counter)\n",
    "print(\"frame.length: \", len(frame))\n",
    "\n",
    "\n",
    "pufFinal.to_csv('sampleDisplay.csv')\n"
   ]
  },
  {
   "cell_type": "code",
   "execution_count": 13,
   "metadata": {},
   "outputs": [
    {
     "name": "stdout",
     "output_type": "stream",
     "text": [
      "myLen:  5964\n",
      "34625\n",
      "counter :  5964\n",
      "frame.length:  5964\n"
     ]
    }
   ],
   "source": [
    "\n",
    "withNull1 = pufFinal[['CONTROL' , 'REGION' , 'SHIPMONTH' , 'SECTIONS' ,\n",
    "                   'WEIGHT' , 'WGTADJ']]\n",
    "\n",
    "withNull1[np.isnan(pufFinal.BEDROOMS)].to_csv('oi.csv')\n",
    "\n",
    "\n",
    "\n",
    "testingX = withNull1[np.isnan(pufFinal.BEDROOMS)]\n",
    "print(\"myLen: \", len(testingX))\n",
    "\n",
    "testingX.to_csv('sampleDisplay112.csv')\n",
    "\n",
    "\n",
    "definiteValues = pufFinal[['CONTROL' , 'REGION' , 'SHIPMONTH' , 'SECTIONS' ,\n",
    "                   'WEIGHT' , 'WGTADJ' , 'STATUS' , 'PRICE' , 'SQFT' ,\n",
    "                   'BEDROOMS' , 'TITLED' , 'LOCATION' , 'FOUNDATION' , 'SECURED']].dropna()\n",
    "\n",
    "trainX = definiteValues[['CONTROL' , 'REGION' , 'SHIPMONTH' , 'SECTIONS' ,\n",
    "                   'WEIGHT' , 'WGTADJ']]\n",
    "\n",
    "trainY = definiteValues[['BEDROOMS']]\n",
    "LR = LinearRegression()\n",
    "LR.fit(trainX , trainY)\n",
    "\n",
    "frame = LR.predict(testingX)\n",
    "counter = 0\n",
    "print(len(pufFinal[\"BEDROOMS\"].values))\n",
    "\n",
    "pufFinal[\"BEDROOMS\"].to_csv(\"worddd.csv\")\n",
    "for i in range(len(pufFinal)):\n",
    "    if pd.isna(pufFinal.iloc[i,9]):\n",
    "        pufFinal.iloc[i,9] = frame[counter]\n",
    "        counter+=1\n",
    "print(\"counter : \" , counter)\n",
    "print(\"frame.length: \", len(frame))\n",
    "\n",
    "\n",
    "pufFinal.to_csv('sampleDisplay.csv')\n"
   ]
  },
  {
   "cell_type": "code",
   "execution_count": 14,
   "metadata": {},
   "outputs": [
    {
     "name": "stdout",
     "output_type": "stream",
     "text": [
      "myLen:  15576\n",
      "34625\n",
      "counter :  15576\n",
      "frame.length:  15576\n"
     ]
    }
   ],
   "source": [
    "\n",
    "withNull1 = pufFinal[['CONTROL' , 'REGION' , 'SHIPMONTH' , 'SECTIONS' ,\n",
    "                   'WEIGHT' , 'WGTADJ']]\n",
    "\n",
    "withNull1[np.isnan(pufFinal.TITLED)].to_csv('oi.csv')\n",
    "\n",
    "\n",
    "\n",
    "testingX = withNull1[np.isnan(pufFinal.TITLED)]\n",
    "print(\"myLen: \", len(testingX))\n",
    "\n",
    "testingX.to_csv('sampleDisplay112.csv')\n",
    "\n",
    "\n",
    "definiteValues = pufFinal[['CONTROL' , 'REGION' , 'SHIPMONTH' , 'SECTIONS' ,\n",
    "                   'WEIGHT' , 'WGTADJ' , 'STATUS' , 'PRICE' , 'SQFT' ,\n",
    "                   'BEDROOMS' , 'TITLED' , 'LOCATION' , 'FOUNDATION' , 'SECURED']].dropna()\n",
    "\n",
    "trainX = definiteValues[['CONTROL' , 'REGION' , 'SHIPMONTH' , 'SECTIONS' ,\n",
    "                   'WEIGHT' , 'WGTADJ']]\n",
    "\n",
    "trainY = definiteValues[['TITLED']]\n",
    "LR = LinearRegression()\n",
    "LR.fit(trainX , trainY)\n",
    "\n",
    "frame = LR.predict(testingX)\n",
    "counter = 0\n",
    "print(len(pufFinal[\"TITLED\"].values))\n",
    "\n",
    "pufFinal[\"TITLED\"].to_csv(\"worddd.csv\")\n",
    "for i in range(len(pufFinal)):\n",
    "    if pd.isna(pufFinal.iloc[i,10]):\n",
    "        pufFinal.iloc[i,10] = frame[counter]\n",
    "        counter+=1\n",
    "print(\"counter : \" , counter)\n",
    "print(\"frame.length: \", len(frame))\n",
    "\n",
    "\n",
    "pufFinal.to_csv('sampleDisplay.csv')\n"
   ]
  },
  {
   "cell_type": "code",
   "execution_count": 15,
   "metadata": {},
   "outputs": [
    {
     "name": "stdout",
     "output_type": "stream",
     "text": [
      "myLen:  15576\n",
      "34625\n",
      "counter :  15576\n",
      "frame.length:  15576\n"
     ]
    }
   ],
   "source": [
    "\n",
    "withNull1 = pufFinal[['CONTROL' , 'REGION' , 'SHIPMONTH' , 'SECTIONS' ,\n",
    "                   'WEIGHT' , 'WGTADJ']]\n",
    "\n",
    "withNull1[np.isnan(pufFinal.LOCATION)].to_csv('oi.csv')\n",
    "\n",
    "\n",
    "\n",
    "testingX = withNull1[np.isnan(pufFinal.LOCATION)]\n",
    "print(\"myLen: \", len(testingX))\n",
    "\n",
    "testingX.to_csv('sampleDisplay112.csv')\n",
    "\n",
    "\n",
    "definiteValues = pufFinal[['CONTROL' , 'REGION' , 'SHIPMONTH' , 'SECTIONS' ,\n",
    "                   'WEIGHT' , 'WGTADJ' , 'STATUS' , 'PRICE' , 'SQFT' ,\n",
    "                   'BEDROOMS' , 'TITLED' , 'LOCATION' , 'FOUNDATION' , 'SECURED']].dropna()\n",
    "\n",
    "trainX = definiteValues[['CONTROL' , 'REGION' , 'SHIPMONTH' , 'SECTIONS' ,\n",
    "                   'WEIGHT' , 'WGTADJ']]\n",
    "\n",
    "trainY = definiteValues[['LOCATION']]\n",
    "LR = LinearRegression()\n",
    "LR.fit(trainX , trainY)\n",
    "\n",
    "frame = LR.predict(testingX)\n",
    "counter = 0\n",
    "print(len(pufFinal[\"LOCATION\"].values))\n",
    "\n",
    "pufFinal[\"LOCATION\"].to_csv(\"worddd.csv\")\n",
    "for i in range(len(pufFinal)):\n",
    "    if pd.isna(pufFinal.iloc[i,11]):\n",
    "        pufFinal.iloc[i,11] = frame[counter]\n",
    "        counter+=1\n",
    "print(\"counter : \" , counter)\n",
    "print(\"frame.length: \", len(frame))\n",
    "\n",
    "\n",
    "pufFinal.to_csv('sampleDisplay.csv')\n"
   ]
  },
  {
   "cell_type": "code",
   "execution_count": 16,
   "metadata": {},
   "outputs": [
    {
     "name": "stdout",
     "output_type": "stream",
     "text": [
      "myLen:  15576\n",
      "34625\n",
      "counter :  15576\n",
      "frame.length:  15576\n"
     ]
    }
   ],
   "source": [
    "\n",
    "withNull1 = pufFinal[['CONTROL' , 'REGION' , 'SHIPMONTH' , 'SECTIONS' ,\n",
    "                   'WEIGHT' , 'WGTADJ']]\n",
    "\n",
    "withNull1[np.isnan(pufFinal.FOUNDATION)].to_csv('oi.csv')\n",
    "\n",
    "\n",
    "\n",
    "testingX = withNull1[np.isnan(pufFinal.FOUNDATION)]\n",
    "print(\"myLen: \", len(testingX))\n",
    "\n",
    "testingX.to_csv('sampleDisplay112.csv')\n",
    "\n",
    "\n",
    "definiteValues = pufFinal[['CONTROL' , 'REGION' , 'SHIPMONTH' , 'SECTIONS' ,\n",
    "                   'WEIGHT' , 'WGTADJ' , 'STATUS' , 'PRICE' , 'SQFT' ,\n",
    "                   'BEDROOMS' , 'TITLED' , 'LOCATION' , 'FOUNDATION' , 'SECURED']].dropna()\n",
    "\n",
    "trainX = definiteValues[['CONTROL' , 'REGION' , 'SHIPMONTH' , 'SECTIONS' ,\n",
    "                   'WEIGHT' , 'WGTADJ']]\n",
    "\n",
    "trainY = definiteValues[['FOUNDATION']]\n",
    "LR = LinearRegression()\n",
    "LR.fit(trainX , trainY)\n",
    "\n",
    "frame = LR.predict(testingX)\n",
    "counter = 0\n",
    "print(len(pufFinal[\"FOUNDATION\"].values))\n",
    "\n",
    "pufFinal[\"FOUNDATION\"].to_csv(\"worddd.csv\")\n",
    "for i in range(len(pufFinal)):\n",
    "    if pd.isna(pufFinal.iloc[i,12]):\n",
    "        pufFinal.iloc[i,12] = frame[counter]\n",
    "        counter+=1\n",
    "print(\"counter : \" , counter)\n",
    "print(\"frame.length: \", len(frame))\n",
    "\n",
    "\n",
    "pufFinal.to_csv('sampleDisplay.csv')\n"
   ]
  },
  {
   "cell_type": "code",
   "execution_count": 17,
   "metadata": {},
   "outputs": [
    {
     "name": "stdout",
     "output_type": "stream",
     "text": [
      "myLen:  24853\n",
      "34625\n",
      "counter :  24853\n",
      "frame.length:  24853\n"
     ]
    }
   ],
   "source": [
    "\n",
    "withNull1 = pufFinal[['CONTROL' , 'REGION' , 'SHIPMONTH' , 'SECTIONS' ,\n",
    "                   'WEIGHT' , 'WGTADJ']]\n",
    "\n",
    "withNull1[np.isnan(pufFinal.SECURED)].to_csv('oi.csv')\n",
    "\n",
    "\n",
    "\n",
    "testingX = withNull1[np.isnan(pufFinal.SECURED)]\n",
    "print(\"myLen: \", len(testingX))\n",
    "\n",
    "testingX.to_csv('sampleDisplay112.csv')\n",
    "\n",
    "\n",
    "definiteValues = pufFinal[['CONTROL' , 'REGION' , 'SHIPMONTH' , 'SECTIONS' ,\n",
    "                   'WEIGHT' , 'WGTADJ' , 'STATUS' , 'PRICE' , 'SQFT' ,\n",
    "                   'BEDROOMS' , 'TITLED' , 'LOCATION' , 'FOUNDATION' , 'SECURED']].dropna()\n",
    "\n",
    "trainX = definiteValues[['CONTROL' , 'REGION' , 'SHIPMONTH' , 'SECTIONS' ,\n",
    "                   'WEIGHT' , 'WGTADJ']]\n",
    "\n",
    "trainY = definiteValues[['SECURED']]\n",
    "LR = LinearRegression()\n",
    "LR.fit(trainX , trainY)\n",
    "\n",
    "frame = LR.predict(testingX)\n",
    "counter = 0\n",
    "print(len(pufFinal[\"SECURED\"].values))\n",
    "\n",
    "pufFinal[\"SECURED\"].to_csv(\"worddd.csv\")\n",
    "for i in range(len(pufFinal)):\n",
    "    if pd.isna(pufFinal.iloc[i,13]):\n",
    "        pufFinal.iloc[i,13] = frame[counter]\n",
    "        counter+=1\n",
    "print(\"counter : \" , counter)\n",
    "print(\"frame.length: \", len(frame))\n",
    "\n",
    "\n",
    "pufFinal.to_csv('sampleDisplay.csv')\n"
   ]
  },
  {
   "cell_type": "code",
   "execution_count": 18,
   "metadata": {},
   "outputs": [],
   "source": [
    "from sklearn.cluster import KMeans\n",
    "from matplotlib import pyplot as plt"
   ]
  },
  {
   "cell_type": "code",
   "execution_count": 29,
   "metadata": {},
   "outputs": [
    {
     "name": "stdout",
     "output_type": "stream",
     "text": [
      "[1.20526670693828e+18, 4260207834755671.5, 80899696700680.05, 52114956087904.84, 40345980609457.484, 35616258797868.22, 31113546187479.082, 28312661581578.93, 25215368552328.098, 23011605084215.004]\n"
     ]
    },
    {
     "data": {
      "image/png": "[encoded data removed]",
      "text/plain": [
       "<Figure size 432x288 with 1 Axes>"
      ]
     },
     "metadata": {
      "needs_background": "light"
     },
     "output_type": "display_data"
    }
   ],
   "source": [
    "# using elbow method to find out the optimal number of clusters\n",
    "x = trainX\n",
    "wcss = []\n",
    "\n",
    "for i in range(1,11): \n",
    "    kmeans = KMeans(n_clusters=i, init ='k-means++', max_iter=300,  n_init=10,random_state=0)\n",
    "    kmeans.fit(pufFinal)\n",
    "    wcss.append(kmeans.inertia_)\n",
    "print(wcss)\n",
    "plt.plot(range(1,11) , wcss)\n",
    "plt.title('The Elbow Method Graph')\n",
    "plt.xlabel('Number of clusters')\n",
    "plt.ylabel('WCSS')\n",
    "plt.show()"
   ]
  },
  {
   "cell_type": "code",
   "execution_count": 20,
   "metadata": {},
   "outputs": [],
   "source": [
    "# from this we know we have 2 clusters"
   ]
  },
  {
   "cell_type": "code",
   "execution_count": 109,
   "metadata": {
    "scrolled": false
   },
   "outputs": [
    {
     "name": "stdout",
     "output_type": "stream",
     "text": [
      "[1 1 1 ... 0 0 0]\n"
     ]
    },
    {
     "data": {
      "image/png": "[encoded data removed]",
      "text/plain": [
       "<Figure size 432x288 with 1 Axes>"
      ]
     },
     "metadata": {
      "needs_background": "light"
     },
     "output_type": "display_data"
    }
   ],
   "source": [
    "kmeans = KMeans(n_clusters=2, init ='k-means++', max_iter=300, n_init=10,random_state=0 )\n",
    "\n",
    "\n",
    "predictions = kmeans.fit_predict(pufFinal)\n",
    "\n",
    "\n",
    "print(predictions)\n",
    "\n",
    "plt.scatter(pufFinal[predictions==0], pufFinal[predictions==0], s=100, c='red', label ='Cluster 1')\n",
    "plt.scatter(pufFinal[predictions==1], pufFinal[predictions==1], s=100, c='blue', label ='Cluster 2')\n",
    "\n",
    "\n",
    "plt.title('Clusters of Customers')\n",
    "\n",
    "plt.show()\n"
   ]
  },
  {
   "cell_type": "code",
   "execution_count": null,
   "metadata": {},
   "outputs": [],
   "source": []
  },
  {
   "cell_type": "code",
   "execution_count": 22,
   "metadata": {},
   "outputs": [],
   "source": [
    "# PCA BELOW"
   ]
  },
  {
   "cell_type": "code",
   "execution_count": 110,
   "metadata": {},
   "outputs": [],
   "source": [
    "from sklearn.decomposition import PCA\n",
    "from sklearn.discriminant_analysis import LinearDiscriminantAnalysis\n"
   ]
  },
  {
   "cell_type": "code",
   "execution_count": 111,
   "metadata": {},
   "outputs": [
    {
     "name": "stdout",
     "output_type": "stream",
     "text": [
      "Explained variance ratio (first 2 components): [9.99966639e-01 3.33568842e-05]\n"
     ]
    },
    {
     "data": {
      "text/plain": [
       "<Figure size 432x288 with 0 Axes>"
      ]
     },
     "metadata": {},
     "output_type": "display_data"
    },
    {
     "data": {
      "image/png": "[encoded data removed]",
      "text/plain": [
       "<Figure size 864x576 with 1 Axes>"
      ]
     },
     "metadata": {
      "needs_background": "light"
     },
     "output_type": "display_data"
    }
   ],
   "source": [
    "x = pufFinal\n",
    "y_num = predictions\n",
    "\n",
    "target_names = [\"Cluster 0\", \"Cluster 1\", \"Cluster 2\"]\n",
    "\n",
    "pca = PCA(n_components = 2, random_state = 1)\n",
    "x_r = pca.fit(x).transform(x)\n",
    "\n",
    "print(\"Explained variance ratio (first 2 components): %s\" % str(pca.explained_variance_ratio_))\n",
    "\n",
    "\n",
    "plt.figure()\n",
    "plt.figure(figsize=(12,8))\n",
    "colors = ['navy', 'turquoise', 'red', 'black']\n",
    "\n",
    "for color, i, target_name in zip(colors, [0,1,2,3], target_names):\n",
    "    plt.scatter(x_r[y_num == i, 0], x_r[y_num == i, 1], color=color, alpha=0.8, lw = 2, label = target_name)\n",
    "    \n",
    "plt.legend(loc = 'best', shadow = False, scatterpoints = 1)\n",
    "plt.legend(bbox_to_anchor=(1.05,1), loc=2, borderaxespad = 0.6)\n",
    "plt.title(\"PCA\")\n",
    "plt.show()\n"
   ]
  },
  {
   "cell_type": "code",
   "execution_count": null,
   "metadata": {},
   "outputs": [],
   "source": []
  },
  {
   "cell_type": "code",
   "execution_count": 112,
   "metadata": {},
   "outputs": [
    {
     "data": {
      "text/html": [
       "<div>\n",
       "<style scoped>\n",
       "    .dataframe tbody tr th:only-of-type {\n",
       "        vertical-align: middle;\n",
       "    }\n",
       "\n",
       "    .dataframe tbody tr th {\n",
       "        vertical-align: top;\n",
       "    }\n",
       "\n",
       "    .dataframe thead th {\n",
       "        text-align: right;\n",
       "    }\n",
       "</style>\n",
       "<table border=\"1\" class=\"dataframe\">\n",
       "  <thead>\n",
       "    <tr style=\"text-align: right;\">\n",
       "      <th></th>\n",
       "      <th>CONTROL</th>\n",
       "      <th>REGION</th>\n",
       "      <th>SHIPMONTH</th>\n",
       "      <th>SECTIONS</th>\n",
       "      <th>WEIGHT</th>\n",
       "      <th>WGTADJ</th>\n",
       "      <th>STATUS</th>\n",
       "      <th>PRICE</th>\n",
       "      <th>SQFT</th>\n",
       "      <th>BEDROOMS</th>\n",
       "      <th>TITLED</th>\n",
       "      <th>LOCATION</th>\n",
       "      <th>FOUNDATION</th>\n",
       "      <th>SECURED</th>\n",
       "    </tr>\n",
       "  </thead>\n",
       "  <tbody>\n",
       "    <tr>\n",
       "      <th>0</th>\n",
       "      <td>19010001</td>\n",
       "      <td>4</td>\n",
       "      <td>201901</td>\n",
       "      <td>1</td>\n",
       "      <td>19.2632</td>\n",
       "      <td>1.0923</td>\n",
       "      <td>2.0</td>\n",
       "      <td>53000.0</td>\n",
       "      <td>440.0</td>\n",
       "      <td>1.0</td>\n",
       "      <td>2.0</td>\n",
       "      <td>3.0</td>\n",
       "      <td>2.0</td>\n",
       "      <td>1.0</td>\n",
       "    </tr>\n",
       "    <tr>\n",
       "      <th>1</th>\n",
       "      <td>19010002</td>\n",
       "      <td>4</td>\n",
       "      <td>201901</td>\n",
       "      <td>1</td>\n",
       "      <td>19.2632</td>\n",
       "      <td>1.0923</td>\n",
       "      <td>2.0</td>\n",
       "      <td>59000.0</td>\n",
       "      <td>620.0</td>\n",
       "      <td>1.0</td>\n",
       "      <td>2.0</td>\n",
       "      <td>1.0</td>\n",
       "      <td>3.0</td>\n",
       "      <td>1.0</td>\n",
       "    </tr>\n",
       "    <tr>\n",
       "      <th>2</th>\n",
       "      <td>19010003</td>\n",
       "      <td>4</td>\n",
       "      <td>201901</td>\n",
       "      <td>1</td>\n",
       "      <td>19.2632</td>\n",
       "      <td>1.0923</td>\n",
       "      <td>2.0</td>\n",
       "      <td>55000.0</td>\n",
       "      <td>920.0</td>\n",
       "      <td>1.0</td>\n",
       "      <td>2.0</td>\n",
       "      <td>3.0</td>\n",
       "      <td>3.0</td>\n",
       "      <td>1.0</td>\n",
       "    </tr>\n",
       "    <tr>\n",
       "      <th>3</th>\n",
       "      <td>19010004</td>\n",
       "      <td>4</td>\n",
       "      <td>201901</td>\n",
       "      <td>1</td>\n",
       "      <td>19.2632</td>\n",
       "      <td>1.0923</td>\n",
       "      <td>2.0</td>\n",
       "      <td>100000.0</td>\n",
       "      <td>700.0</td>\n",
       "      <td>1.0</td>\n",
       "      <td>2.0</td>\n",
       "      <td>1.0</td>\n",
       "      <td>2.0</td>\n",
       "      <td>1.0</td>\n",
       "    </tr>\n",
       "    <tr>\n",
       "      <th>4</th>\n",
       "      <td>19010005</td>\n",
       "      <td>1</td>\n",
       "      <td>201901</td>\n",
       "      <td>1</td>\n",
       "      <td>10.4833</td>\n",
       "      <td>1.0923</td>\n",
       "      <td>2.0</td>\n",
       "      <td>57000.0</td>\n",
       "      <td>1100.0</td>\n",
       "      <td>3.0</td>\n",
       "      <td>2.0</td>\n",
       "      <td>3.0</td>\n",
       "      <td>3.0</td>\n",
       "      <td>1.0</td>\n",
       "    </tr>\n",
       "  </tbody>\n",
       "</table>\n",
       "</div>"
      ],
      "text/plain": [
       "    CONTROL  REGION  SHIPMONTH  SECTIONS   WEIGHT  WGTADJ  STATUS     PRICE  \\\n",
       "0  19010001       4     201901         1  19.2632  1.0923     2.0   53000.0   \n",
       "1  19010002       4     201901         1  19.2632  1.0923     2.0   59000.0   \n",
       "2  19010003       4     201901         1  19.2632  1.0923     2.0   55000.0   \n",
       "3  19010004       4     201901         1  19.2632  1.0923     2.0  100000.0   \n",
       "4  19010005       1     201901         1  10.4833  1.0923     2.0   57000.0   \n",
       "\n",
       "     SQFT  BEDROOMS  TITLED  LOCATION  FOUNDATION  SECURED  \n",
       "0   440.0       1.0     2.0       3.0         2.0      1.0  \n",
       "1   620.0       1.0     2.0       1.0         3.0      1.0  \n",
       "2   920.0       1.0     2.0       3.0         3.0      1.0  \n",
       "3   700.0       1.0     2.0       1.0         2.0      1.0  \n",
       "4  1100.0       3.0     2.0       3.0         3.0      1.0  "
      ]
     },
     "execution_count": 112,
     "metadata": {},
     "output_type": "execute_result"
    }
   ],
   "source": [
    "pufFinal.head()"
   ]
  },
  {
   "cell_type": "code",
   "execution_count": 113,
   "metadata": {},
   "outputs": [
    {
     "name": "stdout",
     "output_type": "stream",
     "text": [
      "[40959859535195.664, 17598910132087.03, 8999952769884.94, 5309757814978.648, 3108593824689.252, 2127572410995.26, 1581033746157.856, 1222566404900.3933, 1027747775834.4703, 851417524704.034]\n"
     ]
    },
    {
     "data": {
      "image/png": "[encoded data removed]",
      "text/plain": [
       "<Figure size 432x288 with 1 Axes>"
      ]
     },
     "metadata": {
      "needs_background": "light"
     },
     "output_type": "display_data"
    }
   ],
   "source": [
    "# using elbow method to find out the optimal number of clusters\n",
    "moneyAndRegion = pufFinal[['REGION' , 'PRICE']]\n",
    "moneyAndRegion.head()\n",
    "x = moneyAndRegion\n",
    "wcss = []\n",
    "\n",
    "for i in range(1,11): \n",
    "    kmeans = KMeans(n_clusters=i, init ='k-means++', max_iter=300,  n_init=10,random_state=0)\n",
    "    kmeans.fit(x)\n",
    "    wcss.append(kmeans.inertia_)\n",
    "print(wcss)\n",
    "plt.plot(range(1,11) , wcss)\n",
    "plt.title('The Elbow Method Graph')\n",
    "plt.xlabel('Number of clusters')\n",
    "plt.ylabel('WCSS')\n",
    "plt.show()"
   ]
  },
  {
   "cell_type": "code",
   "execution_count": 115,
   "metadata": {},
   "outputs": [
    {
     "data": {
      "image/png": "[encoded data removed]",
      "text/plain": [
       "<Figure size 432x288 with 1 Axes>"
      ]
     },
     "metadata": {
      "needs_background": "light"
     },
     "output_type": "display_data"
    }
   ],
   "source": [
    "# Drop every column expect for just Price and Region to see if there is a correlation bwtween the two\n",
    "\n",
    "\n",
    "\n",
    "kmeans = KMeans(n_clusters=3, init ='k-means++', max_iter=300, n_init=10,random_state=0 )\n",
    "\n",
    "\n",
    "predictions = kmeans.fit_predict(moneyAndRegion)\n",
    "\n",
    "\n",
    "#plt.scatter(moneyAndRegion[predictions==0], moneyAndRegion[predictions==0], s=100, c='red', label ='Cluster 1')\n",
    "#plt.scatter(moneyAndRegion[predictions==1], moneyAndRegion[predictions==1], s=100, c='blue', label ='Cluster 2')\n",
    "#plt.scatter(moneyAndRegion[predictions==2], moneyAndRegion[predictions==2], s=100, c='green', label ='Cluster 3')\n",
    "#plt.scatter(moneyAndRegion[predictions==3], moneyAndRegion[predictions==3], s=100, c='yellow', label ='Cluster 4')\n",
    "plt.scatter(moneyAndRegion['REGION'], moneyAndRegion['PRICE'], c= kmeans.labels_.astype(float), s=50, alpha=0.5)\n",
    "\n",
    "\n",
    "# plt.scatter(kmeans.cluster_centers_[:, 0], kmeans.cluster_centers_[:, 1], s=300, c='yellow', label = 'Centroids')\n",
    "plt.title('Clusters Prices vs. Region')\n",
    "plt.xlabel('Region')\n",
    "plt.ylabel('House Price')\n",
    "plt.show()\n",
    "\n"
   ]
  },
  {
   "cell_type": "code",
   "execution_count": 116,
   "metadata": {},
   "outputs": [
    {
     "name": "stdout",
     "output_type": "stream",
     "text": [
      "[40968026177508.586, 17603940269431.42, 9004411542421.723, 5314661532270.6045, 3113085376746.3906, 2131349467928.3062, 1585288144707.376, 1225652278813.9512, 1033207449030.74, 856169876264.7303]\n"
     ]
    },
    {
     "data": {
      "image/png": "[encoded data removed]",
      "text/plain": [
       "<Figure size 432x288 with 1 Axes>"
      ]
     },
     "metadata": {
      "needs_background": "light"
     },
     "output_type": "display_data"
    }
   ],
   "source": [
    "# using elbow method to find out the optimal number of clusters\n",
    "otherFeats = pufFinal[['REGION' , 'PRICE','SQFT' ,'BEDROOMS']]\n",
    "otherFeats.head()\n",
    "x = otherFeats\n",
    "wcss = []\n",
    "\n",
    "for i in range(1,11): \n",
    "    kmeans = KMeans(n_clusters=i, init ='k-means++', max_iter=300,  n_init=10,random_state=0)\n",
    "    kmeans.fit(x)\n",
    "    wcss.append(kmeans.inertia_)\n",
    "print(wcss)\n",
    "plt.plot(range(1,11) , wcss)\n",
    "plt.title('The Elbow Method Graph')\n",
    "plt.xlabel('Number of clusters')\n",
    "plt.ylabel('WCSS')\n",
    "plt.show()"
   ]
  },
  {
   "cell_type": "code",
   "execution_count": 117,
   "metadata": {},
   "outputs": [
    {
     "name": "stdout",
     "output_type": "stream",
     "text": [
      "[0 0 0 ... 0 0 0]\n"
     ]
    },
    {
     "data": {
      "image/png": "[encoded data removed]",
      "text/plain": [
       "<Figure size 432x288 with 1 Axes>"
      ]
     },
     "metadata": {
      "needs_background": "light"
     },
     "output_type": "display_data"
    }
   ],
   "source": [
    "import seaborn as sns\n",
    "\n",
    "# Drop every column expect for just Price and Region to see if there is a correlation bwtween the two\n",
    "from sklearn.datasets.samples_generator import make_blobs\n",
    "\n",
    "\n",
    "kmeans = KMeans(n_clusters=3, init ='k-means++', max_iter=300, n_init=10,random_state=0 )\n",
    "\n",
    "pred = kmeans.fit_predict(otherFeats)\n",
    "\n",
    "dataF['clusterNum'] = pred\n",
    "\n",
    "\n",
    "print(pred)\n",
    "\n",
    "rd = PCA(n_components=2)\n",
    "rd = rd.fit_transform(otherFeats)\n",
    "\n",
    "r = pd.DataFrame(rd,columns=['ReducedColumn1','ReducedColumn2'])\n",
    "\n",
    "\n",
    "\n",
    "\n",
    "sns.scatterplot(x=\"ReducedColumn1\", y=\"ReducedColumn2\", hue=pred, data=r)\n",
    "plt.title('Kmeans More Features')\n",
    "plt.show()\n",
    "\n",
    "\n"
   ]
  },
  {
   "cell_type": "code",
   "execution_count": null,
   "metadata": {},
   "outputs": [],
   "source": []
  }
 ],
 "metadata": {
  "kernelspec": {
   "display_name": "Python 3",
   "language": "python",
   "name": "python3"
  },
  "language_info": {
   "codemirror_mode": {
    "name": "ipython",
    "version": 3
   },
   "file_extension": ".py",
   "mimetype": "text/x-python",
   "name": "python",
   "nbconvert_exporter": "python",
   "pygments_lexer": "ipython3",
   "version": "3.6.6"
  }
 },
 "nbformat": 4,
 "nbformat_minor": 2
}
